{
  "cells": [
    {
      "cell_type": "markdown",
      "metadata": {
        "id": "X2UhRjey0U8M"
      },
      "source": [
        "# Lab Exercise: SQL Analysis with Polars\n",
        "\n",
        "In this lab, you'll practice SQL queries using Polars' built-in SQL functionality. Complete each exercise by writing the appropriate SQL query."
      ]
    },
    {
      "cell_type": "code",
      "execution_count": 1,
      "metadata": {
        "colab": {
          "base_uri": "https://localhost:8080/"
        },
        "id": "A-evva4K0U8M",
        "outputId": "e2f535ab-7b13-4204-97ac-af6770ef1203"
      },
      "outputs": [
        {
          "output_type": "stream",
          "name": "stdout",
          "text": [
            "Setup complete! Tables available:\n",
            "shape: (5, 1)\n",
            "┌──────────┐\n",
            "│ name     │\n",
            "│ ---      │\n",
            "│ str      │\n",
            "╞══════════╡\n",
            "│ airlines │\n",
            "│ airports │\n",
            "│ flights  │\n",
            "│ planes   │\n",
            "│ weather  │\n",
            "└──────────┘\n"
          ]
        },
        {
          "output_type": "stream",
          "name": "stderr",
          "text": [
            "/tmp/ipython-input-3726869723.py:15: DeprecationWarning: The argument `eager_execution` for `SQLContext.__init__` is deprecated. It has been renamed to `eager`.\n",
            "  ctx = pl.SQLContext(\n"
          ]
        }
      ],
      "source": [
        "# Setup - Run this cell first\n",
        "import polars as pl\n",
        "\n",
        "# Load data\n",
        "airlines = pl.read_csv('https://raw.githubusercontent.com/philhetzel/opan5510-class11/refs/heads/main/data/nyc_airlines.csv')\n",
        "airports = pl.read_csv('https://raw.githubusercontent.com/philhetzel/opan5510-class11/refs/heads/main/data/nyc_airports.csv')\n",
        "flights = pl.read_csv('https://raw.githubusercontent.com/philhetzel/opan5510-class11/refs/heads/main/data/nyc_flights.csv', null_values='NA')\n",
        "planes = pl.read_csv('https://raw.githubusercontent.com/philhetzel/opan5510-class11/refs/heads/main/data/nyc_planes.csv', null_values='NA')\n",
        "weather = pl.read_csv('https://raw.githubusercontent.com/philhetzel/opan5510-class11/refs/heads/main/data/nyc_weather.csv', schema_overrides={'precip': pl.Float64}, ignore_errors=True)\n",
        "\n",
        "flights = flights.with_columns(pl.col(\"time_hour\").str.strptime(pl.Datetime))\n",
        "weather = weather.with_columns(pl.col(\"time_hour\").str.strptime(pl.Datetime))\n",
        "\n",
        "# Create SQL context\n",
        "ctx = pl.SQLContext(\n",
        "    airlines=airlines,\n",
        "    airports=airports,\n",
        "    flights=flights,\n",
        "    planes=planes,\n",
        "    weather=weather,\n",
        "    eager_execution=True\n",
        ")\n",
        "\n",
        "print(\"Setup complete! Tables available:\")\n",
        "print(ctx.execute(\"SHOW TABLES\"))"
      ]
    },
    {
      "cell_type": "code",
      "source": [
        "print(\"Airlines:\", airlines.shape)\n",
        "print(\"Airports:\", airports.shape)\n",
        "print(\"Flights:\", flights.shape)\n",
        "print(\"Planes:\", planes.shape)\n",
        "print(\"Weather:\", weather.shape)"
      ],
      "metadata": {
        "colab": {
          "base_uri": "https://localhost:8080/"
        },
        "id": "kQf6OEXa23eK",
        "outputId": "8db1cc94-afb1-42d0-b639-515c09488329"
      },
      "execution_count": 9,
      "outputs": [
        {
          "output_type": "stream",
          "name": "stdout",
          "text": [
            "Airlines: (16, 2)\n",
            "Airports: (1458, 8)\n",
            "Flights: (336776, 19)\n",
            "Planes: (3322, 9)\n",
            "Weather: (26115, 15)\n"
          ]
        }
      ]
    },
    {
      "cell_type": "markdown",
      "metadata": {
        "id": "-AzmE51X0U8N"
      },
      "source": [
        "## Exercise 1: Basic Queries\n",
        "\n",
        "### 1.1 Find all unique carriers in the airlines table"
      ]
    },
    {
      "cell_type": "code",
      "source": [
        "result = ctx.execute(\"\"\"\n",
        "SELECT DISTINCT carrier\n",
        "FROM airlines\n",
        "\"\"\")\n",
        "\n",
        "print(result)"
      ],
      "metadata": {
        "colab": {
          "base_uri": "https://localhost:8080/"
        },
        "id": "M9YWxeqy27aO",
        "outputId": "2d99d148-afd3-4c36-cc2d-9e0eda1d7ee8"
      },
      "execution_count": 8,
      "outputs": [
        {
          "output_type": "stream",
          "name": "stdout",
          "text": [
            "shape: (16, 1)\n",
            "┌─────────┐\n",
            "│ carrier │\n",
            "│ ---     │\n",
            "│ str     │\n",
            "╞═════════╡\n",
            "│ 9E      │\n",
            "│ AA      │\n",
            "│ AS      │\n",
            "│ B6      │\n",
            "│ DL      │\n",
            "│ …       │\n",
            "│ UA      │\n",
            "│ US      │\n",
            "│ VX      │\n",
            "│ WN      │\n",
            "│ YV      │\n",
            "└─────────┘\n"
          ]
        }
      ]
    },
    {
      "cell_type": "markdown",
      "metadata": {
        "id": "45wbUGvG0U8N"
      },
      "source": [
        "### 1.2 Find the top 10 destinations by number of flights"
      ]
    },
    {
      "cell_type": "code",
      "source": [
        "result = ctx.execute(\"\"\"\n",
        "SELECT dest, COUNT(*) as flight_count\n",
        "FROM flights\n",
        "GROUP BY dest\n",
        "ORDER BY flight_count DESC\n",
        "LIMIT 10\n",
        "\"\"\")\n",
        "\n",
        "print(result)"
      ],
      "metadata": {
        "colab": {
          "base_uri": "https://localhost:8080/"
        },
        "id": "e2gaOvRS3EXK",
        "outputId": "4a2e7db0-47d4-474f-f86c-1bc38b55fe7e"
      },
      "execution_count": 7,
      "outputs": [
        {
          "output_type": "stream",
          "name": "stdout",
          "text": [
            "shape: (10, 2)\n",
            "┌──────┬──────────────┐\n",
            "│ dest ┆ flight_count │\n",
            "│ ---  ┆ ---          │\n",
            "│ str  ┆ u32          │\n",
            "╞══════╪══════════════╡\n",
            "│ ORD  ┆ 17283        │\n",
            "│ ATL  ┆ 17215        │\n",
            "│ LAX  ┆ 16174        │\n",
            "│ BOS  ┆ 15508        │\n",
            "│ MCO  ┆ 14082        │\n",
            "│ CLT  ┆ 14064        │\n",
            "│ SFO  ┆ 13331        │\n",
            "│ FLL  ┆ 12055        │\n",
            "│ MIA  ┆ 11728        │\n",
            "│ DCA  ┆ 9705         │\n",
            "└──────┴──────────────┘\n"
          ]
        }
      ]
    },
    {
      "cell_type": "markdown",
      "metadata": {
        "id": "sQU2KMgi0U8N"
      },
      "source": [
        "### 1.3 Find all flights that departed more than 2 hours late (120 minutes)"
      ]
    },
    {
      "cell_type": "code",
      "source": [
        "result = ctx.execute(\"\"\"\n",
        "SELECT *\n",
        "FROM flights\n",
        "WHERE dep_delay > 120\n",
        "\"\"\")\n",
        "\n",
        "print(result)"
      ],
      "metadata": {
        "colab": {
          "base_uri": "https://localhost:8080/"
        },
        "id": "hutfb6Jf3Qer",
        "outputId": "f444c2c4-33c0-411f-a998-981024e51ff9"
      },
      "execution_count": 37,
      "outputs": [
        {
          "output_type": "stream",
          "name": "stdout",
          "text": [
            "shape: (9_723, 19)\n",
            "┌──────┬───────┬─────┬──────────┬───┬──────────┬──────┬────────┬─────────────────────────┐\n",
            "│ year ┆ month ┆ day ┆ dep_time ┆ … ┆ distance ┆ hour ┆ minute ┆ time_hour               │\n",
            "│ ---  ┆ ---   ┆ --- ┆ ---      ┆   ┆ ---      ┆ ---  ┆ ---    ┆ ---                     │\n",
            "│ i64  ┆ i64   ┆ i64 ┆ i64      ┆   ┆ i64      ┆ i64  ┆ i64    ┆ datetime[μs, UTC]       │\n",
            "╞══════╪═══════╪═════╪══════════╪═══╪══════════╪══════╪════════╪═════════════════════════╡\n",
            "│ 2013 ┆ 1     ┆ 1   ┆ 848      ┆ … ┆ 184      ┆ 18   ┆ 35     ┆ 2013-01-01 23:00:00 UTC │\n",
            "│ 2013 ┆ 1     ┆ 1   ┆ 957      ┆ … ┆ 200      ┆ 7    ┆ 33     ┆ 2013-01-01 12:00:00 UTC │\n",
            "│ 2013 ┆ 1     ┆ 1   ┆ 1114     ┆ … ┆ 1416     ┆ 9    ┆ 0      ┆ 2013-01-01 14:00:00 UTC │\n",
            "│ 2013 ┆ 1     ┆ 1   ┆ 1540     ┆ … ┆ 1598     ┆ 13   ┆ 38     ┆ 2013-01-01 18:00:00 UTC │\n",
            "│ 2013 ┆ 1     ┆ 1   ┆ 1815     ┆ … ┆ 1134     ┆ 13   ┆ 25     ┆ 2013-01-01 18:00:00 UTC │\n",
            "│ …    ┆ …     ┆ …   ┆ …        ┆ … ┆ …        ┆ …    ┆ …      ┆ …                       │\n",
            "│ 2013 ┆ 9     ┆ 30  ┆ 1823     ┆ … ┆ 765      ┆ 15   ┆ 45     ┆ 2013-09-30 19:00:00 UTC │\n",
            "│ 2013 ┆ 9     ┆ 30  ┆ 1951     ┆ … ┆ 708      ┆ 16   ┆ 49     ┆ 2013-09-30 20:00:00 UTC │\n",
            "│ 2013 ┆ 9     ┆ 30  ┆ 2053     ┆ … ┆ 746      ┆ 18   ┆ 15     ┆ 2013-09-30 22:00:00 UTC │\n",
            "│ 2013 ┆ 9     ┆ 30  ┆ 2159     ┆ … ┆ 301      ┆ 18   ┆ 45     ┆ 2013-09-30 22:00:00 UTC │\n",
            "│ 2013 ┆ 9     ┆ 30  ┆ 2235     ┆ … ┆ 944      ┆ 20   ┆ 1      ┆ 2013-10-01 00:00:00 UTC │\n",
            "└──────┴───────┴─────┴──────────┴───┴──────────┴──────┴────────┴─────────────────────────┘\n"
          ]
        }
      ]
    },
    {
      "cell_type": "markdown",
      "metadata": {
        "id": "mV7SjWwp0U8N"
      },
      "source": [
        "## Exercise 2: Aggregation\n",
        "\n",
        "### 2.1 Calculate the average departure delay for each origin airport"
      ]
    },
    {
      "cell_type": "code",
      "source": [
        "result = ctx.execute(\"\"\"\n",
        "SELECT origin, AVG(dep_delay) as avg_delay\n",
        "FROM flights\n",
        "WHERE dep_delay IS NOT NULL\n",
        "GROUP BY origin\n",
        "ORDER BY avg_delay DESC\n",
        "\"\"\")\n",
        "\n",
        "print(result)"
      ],
      "metadata": {
        "colab": {
          "base_uri": "https://localhost:8080/"
        },
        "id": "vy-N6-aB3ZOk",
        "outputId": "21fcc20e-2950-4257-d34d-1d42c746a748"
      },
      "execution_count": 11,
      "outputs": [
        {
          "output_type": "stream",
          "name": "stdout",
          "text": [
            "shape: (3, 2)\n",
            "┌────────┬───────────┐\n",
            "│ origin ┆ avg_delay │\n",
            "│ ---    ┆ ---       │\n",
            "│ str    ┆ f64       │\n",
            "╞════════╪═══════════╡\n",
            "│ EWR    ┆ 15.107954 │\n",
            "│ JFK    ┆ 12.112159 │\n",
            "│ LGA    ┆ 10.346876 │\n",
            "└────────┴───────────┘\n"
          ]
        }
      ]
    },
    {
      "cell_type": "markdown",
      "metadata": {
        "id": "FzxBShE80U8N"
      },
      "source": [
        "### 2.2 Find the busiest month of the year\n",
        "\n",
        "Count the number of flights per month and find which month has the most flights."
      ]
    },
    {
      "cell_type": "code",
      "execution_count": 12,
      "metadata": {
        "colab": {
          "base_uri": "https://localhost:8080/"
        },
        "id": "5IXFFOn10U8N",
        "outputId": "c1229cd5-d7e8-4b1a-e4ec-1bc80e8ee5b8"
      },
      "outputs": [
        {
          "output_type": "stream",
          "name": "stdout",
          "text": [
            "shape: (1, 2)\n",
            "┌───────┬──────────────┐\n",
            "│ month ┆ flight_count │\n",
            "│ ---   ┆ ---          │\n",
            "│ i64   ┆ u32          │\n",
            "╞═══════╪══════════════╡\n",
            "│ 7     ┆ 29425        │\n",
            "└───────┴──────────────┘\n"
          ]
        }
      ],
      "source": [
        "result = ctx.execute(\"\"\"\n",
        "SELECT month, COUNT(*) as flight_count\n",
        "FROM flights\n",
        "GROUP BY month\n",
        "ORDER BY flight_count DESC\n",
        "LIMIT 1\n",
        "\"\"\")\n",
        "\n",
        "print(result)"
      ]
    },
    {
      "cell_type": "markdown",
      "metadata": {
        "id": "4qNf9Ytf0U8O"
      },
      "source": [
        "### 2.3 Calculate the on-time performance rate for each carrier\n",
        "\n",
        "Consider a flight on-time if the departure delay is <= 15 minutes."
      ]
    },
    {
      "cell_type": "code",
      "execution_count": 13,
      "metadata": {
        "colab": {
          "base_uri": "https://localhost:8080/"
        },
        "id": "Yw6mKbES0U8O",
        "outputId": "328c3eca-8699-48e2-d3ad-617cd01484b7"
      },
      "outputs": [
        {
          "output_type": "stream",
          "name": "stdout",
          "text": [
            "shape: (16, 2)\n",
            "┌─────────┬──────────────┐\n",
            "│ carrier ┆ on_time_rate │\n",
            "│ ---     ┆ ---          │\n",
            "│ str     ┆ f64          │\n",
            "╞═════════╪══════════════╡\n",
            "│ HA      ┆ 92.982456    │\n",
            "│ US      ┆ 87.822674    │\n",
            "│ AS      ┆ 86.797753    │\n",
            "│ AA      ┆ 84.071293    │\n",
            "│ DL      ┆ 83.681246    │\n",
            "│ …       ┆ …            │\n",
            "│ FL      ┆ 73.32915     │\n",
            "│ WN      ┆ 73.102706    │\n",
            "│ F9      ┆ 71.847507    │\n",
            "│ YV      ┆ 71.376147    │\n",
            "│ EV      ┆ 69.538126    │\n",
            "└─────────┴──────────────┘\n"
          ]
        }
      ],
      "source": [
        "result = ctx.execute(\"\"\"\n",
        "SELECT\n",
        "    carrier,\n",
        "    CAST(SUM(CASE WHEN dep_delay <= 15 THEN 1 ELSE 0 END) AS DOUBLE) * 100 / COUNT(*) AS on_time_rate\n",
        "FROM flights\n",
        "WHERE dep_delay IS NOT NULL\n",
        "GROUP BY carrier\n",
        "ORDER BY on_time_rate DESC\n",
        "\"\"\")\n",
        "\n",
        "print(result)"
      ]
    },
    {
      "cell_type": "markdown",
      "metadata": {
        "id": "WlqFF9kq0U8O"
      },
      "source": [
        "## Exercise 3: Joins\n",
        "\n",
        "### 3.1 List all flights with their airline names (not just carrier codes)\n",
        "\n",
        "Show the first 20 flights with carrier code, airline name, flight number, origin, and destination."
      ]
    },
    {
      "cell_type": "code",
      "source": [
        "result = ctx.execute(\"\"\"\n",
        "SELECT\n",
        "    f.carrier,\n",
        "    a.name as airline_name,\n",
        "    f.flight,\n",
        "    f.origin,\n",
        "    f.dest\n",
        "FROM flights f\n",
        "JOIN airlines a ON f.carrier = a.carrier\n",
        "LIMIT 20\n",
        "\"\"\")\n",
        "\n",
        "print(result)"
      ],
      "metadata": {
        "colab": {
          "base_uri": "https://localhost:8080/"
        },
        "id": "8LRWcv525a0d",
        "outputId": "c0491d4d-d05c-4b26-fc54-34bbb86b45f0"
      },
      "execution_count": 15,
      "outputs": [
        {
          "output_type": "stream",
          "name": "stdout",
          "text": [
            "shape: (20, 5)\n",
            "┌─────────┬────────────────────────┬────────┬────────┬──────┐\n",
            "│ carrier ┆ airline_name           ┆ flight ┆ origin ┆ dest │\n",
            "│ ---     ┆ ---                    ┆ ---    ┆ ---    ┆ ---  │\n",
            "│ str     ┆ str                    ┆ i64    ┆ str    ┆ str  │\n",
            "╞═════════╪════════════════════════╪════════╪════════╪══════╡\n",
            "│ UA      ┆ United Air Lines Inc.  ┆ 1545   ┆ EWR    ┆ IAH  │\n",
            "│ UA      ┆ United Air Lines Inc.  ┆ 1714   ┆ LGA    ┆ IAH  │\n",
            "│ AA      ┆ American Airlines Inc. ┆ 1141   ┆ JFK    ┆ MIA  │\n",
            "│ B6      ┆ JetBlue Airways        ┆ 725    ┆ JFK    ┆ BQN  │\n",
            "│ DL      ┆ Delta Air Lines Inc.   ┆ 461    ┆ LGA    ┆ ATL  │\n",
            "│ …       ┆ …                      ┆ …      ┆ …      ┆ …    │\n",
            "│ B6      ┆ JetBlue Airways        ┆ 1806   ┆ JFK    ┆ BOS  │\n",
            "│ UA      ┆ United Air Lines Inc.  ┆ 1187   ┆ EWR    ┆ LAS  │\n",
            "│ B6      ┆ JetBlue Airways        ┆ 371    ┆ LGA    ┆ FLL  │\n",
            "│ MQ      ┆ Envoy Air              ┆ 4650   ┆ LGA    ┆ ATL  │\n",
            "│ B6      ┆ JetBlue Airways        ┆ 343    ┆ EWR    ┆ PBI  │\n",
            "└─────────┴────────────────────────┴────────┴────────┴──────┘\n"
          ]
        }
      ]
    },
    {
      "cell_type": "markdown",
      "metadata": {
        "id": "_0Y-4SJS0U8O"
      },
      "source": [
        "### 3.2 Find the average age of planes for each carrier\n",
        "\n",
        "Hint: The planes table has a `year` column for manufacture year. Calculate age based on 2013."
      ]
    },
    {
      "cell_type": "code",
      "source": [
        "result = ctx.execute(\"\"\"\n",
        "SELECT\n",
        "    f.carrier,\n",
        "    AVG(2013 - p.year) AS avg_age\n",
        "FROM flights f\n",
        "JOIN planes p ON f.tailnum = p.tailnum\n",
        "WHERE p.year IS NOT NULL\n",
        "GROUP BY f.carrier\n",
        "ORDER BY avg_age\n",
        "\"\"\")\n",
        "\n",
        "print(result)"
      ],
      "metadata": {
        "colab": {
          "base_uri": "https://localhost:8080/"
        },
        "id": "qQXYWPR_5xHC",
        "outputId": "e2cd49cd-bc2c-40ba-c3c9-1d6a78617233"
      },
      "execution_count": 17,
      "outputs": [
        {
          "output_type": "stream",
          "name": "stdout",
          "text": [
            "shape: (16, 2)\n",
            "┌─────────┬───────────┐\n",
            "│ carrier ┆ avg_age   │\n",
            "│ ---     ┆ ---       │\n",
            "│ str     ┆ f64       │\n",
            "╞═════════╪═══════════╡\n",
            "│ HA      ┆ 1.548387  │\n",
            "│ AS      ┆ 3.33662   │\n",
            "│ VX      ┆ 4.473643  │\n",
            "│ F9      ┆ 4.87874   │\n",
            "│ B6      ┆ 6.686702  │\n",
            "│ …       ┆ …         │\n",
            "│ FL      ┆ 11.385829 │\n",
            "│ UA      ┆ 13.207691 │\n",
            "│ DL      ┆ 16.372169 │\n",
            "│ AA      ┆ 25.869426 │\n",
            "│ MQ      ┆ 35.319    │\n",
            "└─────────┴───────────┘\n"
          ]
        }
      ]
    },
    {
      "cell_type": "markdown",
      "metadata": {
        "id": "zTL2JjCs0U8O"
      },
      "source": [
        "### 3.3 Find flights that experienced both departure delays and bad weather\n",
        "\n",
        "Join flights with weather data and find flights where departure delay > 30 minutes and either wind_speed > 20 or precip > 0.1"
      ]
    },
    {
      "cell_type": "code",
      "execution_count": 26,
      "metadata": {
        "colab": {
          "base_uri": "https://localhost:8080/"
        },
        "id": "MdBZS-4q0U8O",
        "outputId": "d93b4bba-0a3d-49a1-f09c-024af1393530"
      },
      "outputs": [
        {
          "output_type": "stream",
          "name": "stdout",
          "text": [
            "shape: (4_938, 9)\n",
            "┌──────┬───────┬─────┬──────────┬───┬────────────┬────────┬────────┬──────┐\n",
            "│ year ┆ month ┆ day ┆ dep_time ┆ … ┆ wind_speed ┆ precip ┆ origin ┆ dest │\n",
            "│ ---  ┆ ---   ┆ --- ┆ ---      ┆   ┆ ---        ┆ ---    ┆ ---    ┆ ---  │\n",
            "│ i64  ┆ i64   ┆ i64 ┆ i64      ┆   ┆ f64        ┆ f64    ┆ str    ┆ str  │\n",
            "╞══════╪═══════╪═════╪══════════╪═══╪════════════╪════════╪════════╪══════╡\n",
            "│ 2013 ┆ 1     ┆ 1   ┆ 2217     ┆ … ┆ 21.86482   ┆ 0.0    ┆ JFK    ┆ TPA  │\n",
            "│ 2013 ┆ 1     ┆ 1   ┆ 2326     ┆ … ┆ 21.86482   ┆ 0.0    ┆ JFK    ┆ LAS  │\n",
            "│ 2013 ┆ 1     ┆ 4   ┆ 1238     ┆ … ┆ 20.71404   ┆ 0.0    ┆ EWR    ┆ JAX  │\n",
            "│ 2013 ┆ 1     ┆ 4   ┆ 1400     ┆ … ┆ 24.16638   ┆ 0.0    ┆ EWR    ┆ IAD  │\n",
            "│ 2013 ┆ 1     ┆ 4   ┆ 1455     ┆ … ┆ 20.71404   ┆ 0.0    ┆ JFK    ┆ BOS  │\n",
            "│ …    ┆ …     ┆ …   ┆ …        ┆ … ┆ …          ┆ …      ┆ …      ┆ …    │\n",
            "│ 2013 ┆ 9     ┆ 22  ┆ 1540     ┆ … ┆ 20.71404   ┆ 0.0    ┆ LGA    ┆ ATL  │\n",
            "│ 2013 ┆ 9     ┆ 22  ┆ 1957     ┆ … ┆ 20.71404   ┆ 0.0    ┆ LGA    ┆ PIT  │\n",
            "│ 2013 ┆ 9     ┆ 22  ┆ 2104     ┆ … ┆ 21.86482   ┆ 0.0    ┆ JFK    ┆ PHX  │\n",
            "│ 2013 ┆ 9     ┆ 22  ┆ 2111     ┆ … ┆ 21.86482   ┆ 0.0    ┆ JFK    ┆ LAX  │\n",
            "│ 2013 ┆ 9     ┆ 22  ┆ 2130     ┆ … ┆ 21.86482   ┆ 0.0    ┆ JFK    ┆ BOS  │\n",
            "└──────┴───────┴─────┴──────────┴───┴────────────┴────────┴────────┴──────┘\n"
          ]
        }
      ],
      "source": [
        "#joining the weather data witht he flights:\n",
        "result = ctx.execute(\"\"\"\n",
        "    SELECT *\n",
        "    FROM weather\n",
        "    LIMIT 5\n",
        "\"\"\")\n",
        "result = ctx.execute(\"\"\"\n",
        "SELECT\n",
        "    f.year,\n",
        "    f.month,\n",
        "    f.day,\n",
        "    f.dep_time,\n",
        "    f.dep_delay,\n",
        "    w.wind_speed,\n",
        "    w.precip,\n",
        "    f.origin,\n",
        "    f.dest\n",
        "FROM flights f\n",
        "JOIN weather w ON f.year = w.year\n",
        "    AND f.month = w.month\n",
        "    AND f.day = w.day\n",
        "    AND f.hour = w.hour\n",
        "    AND f.origin = w.origin\n",
        "WHERE f.dep_delay > 30\n",
        "    AND (w.wind_speed > 20 OR w.precip > 0.1)\n",
        "\"\"\")\n",
        "\n",
        "print(result)"
      ]
    },
    {
      "cell_type": "markdown",
      "metadata": {
        "id": "MtodqiB-0U8P"
      },
      "source": [
        "## Exercise 4: Advanced Queries\n",
        "\n",
        "### 4.1 Find the most popular aircraft types (by number of flights)\n",
        "\n",
        "Join flights with planes to get manufacturer and model information. Show top 10."
      ]
    },
    {
      "cell_type": "code",
      "execution_count": 34,
      "metadata": {
        "colab": {
          "base_uri": "https://localhost:8080/"
        },
        "id": "1cJiCDi10U8P",
        "outputId": "e884c099-b4fb-4284-8dd3-b9d4ca4fad67"
      },
      "outputs": [
        {
          "output_type": "stream",
          "name": "stdout",
          "text": [
            "shape: (10, 3)\n",
            "┌───────────────────────────────┬─────────────────┬──────────────┐\n",
            "│ manufacturer                  ┆ model           ┆ flight_count │\n",
            "│ ---                           ┆ ---             ┆ ---          │\n",
            "│ str                           ┆ str             ┆ u32          │\n",
            "╞═══════════════════════════════╪═════════════════╪══════════════╡\n",
            "│ AIRBUS                        ┆ A320-232        ┆ 31278        │\n",
            "│ EMBRAER                       ┆ EMB-145LR       ┆ 28027        │\n",
            "│ EMBRAER                       ┆ ERJ 190-100 IGW ┆ 23716        │\n",
            "│ AIRBUS INDUSTRIE              ┆ A320-232        ┆ 14553        │\n",
            "│ EMBRAER                       ┆ EMB-145XR       ┆ 14051        │\n",
            "│ BOEING                        ┆ 737-824         ┆ 13809        │\n",
            "│ BOMBARDIER INC                ┆ CL-600-2D24     ┆ 11807        │\n",
            "│ BOEING                        ┆ 737-7H4         ┆ 10389        │\n",
            "│ BOEING                        ┆ 757-222         ┆ 9150         │\n",
            "│ MCDONNELL DOUGLAS AIRCRAFT CO ┆ MD-88           ┆ 8932         │\n",
            "└───────────────────────────────┴─────────────────┴──────────────┘\n"
          ]
        }
      ],
      "source": [
        "#The flyest types of aircrafts\n",
        "result = ctx.execute(\"\"\"\n",
        "SELECT\n",
        "    p.manufacturer,\n",
        "    p.model,\n",
        "    COUNT(*) AS flight_count\n",
        "FROM flights f\n",
        "JOIN planes p ON f.tailnum = p.tailnum\n",
        "WHERE p.manufacturer IS NOT NULL AND p.model IS NOT NULL\n",
        "GROUP BY p.manufacturer, p.model\n",
        "ORDER BY flight_count DESC\n",
        "LIMIT 10\n",
        "\"\"\")\n",
        "\n",
        "print(result)"
      ]
    },
    {
      "cell_type": "markdown",
      "metadata": {
        "id": "p5HYBkeK0U8P"
      },
      "source": [
        "### 4.2 Analyze route performance\n",
        "\n",
        "Find the top 10 routes (origin-destination pairs) with:\n",
        "- Total number of flights\n",
        "- Average departure delay\n",
        "- Percentage of flights delayed more than 30 minutes\n",
        "\n",
        "Include airport names, not just codes."
      ]
    },
    {
      "cell_type": "code",
      "source": [
        "#Analyzing the top 10 routes:\n",
        "result = ctx.execute(\"\"\"\n",
        "SELECT\n",
        "    f.origin,\n",
        "    f.dest,\n",
        "    COUNT(*) as total_flights,\n",
        "    AVG(f.dep_delay) as avg_delay,\n",
        "    CAST(SUM(CASE WHEN f.dep_delay > 30 THEN 1 ELSE 0 END) AS DOUBLE) * 100 / COUNT(*) AS delayed_percentage\n",
        "FROM flights f\n",
        "WHERE f.dep_delay IS NOT NULL\n",
        "GROUP BY f.origin, f.dest\n",
        "ORDER BY total_flights DESC\n",
        "LIMIT 10\n",
        "\"\"\")\n",
        "\n",
        "print(result)"
      ],
      "metadata": {
        "colab": {
          "base_uri": "https://localhost:8080/"
        },
        "id": "re2yAGnZzVM0",
        "outputId": "0dcade8c-56ec-414b-ecf3-67c8e765ff3a"
      },
      "execution_count": 36,
      "outputs": [
        {
          "output_type": "stream",
          "name": "stdout",
          "text": [
            "shape: (10, 5)\n",
            "┌────────┬──────┬───────────────┬───────────┬────────────────────┐\n",
            "│ origin ┆ dest ┆ total_flights ┆ avg_delay ┆ delayed_percentage │\n",
            "│ ---    ┆ ---  ┆ ---           ┆ ---       ┆ ---                │\n",
            "│ str    ┆ str  ┆ u32           ┆ f64       ┆ f64                │\n",
            "╞════════╪══════╪═══════════════╪═══════════╪════════════════════╡\n",
            "│ JFK    ┆ LAX  ┆ 11196         ┆ 8.522508  ┆ 9.88746            │\n",
            "│ LGA    ┆ ATL  ┆ 10082         ┆ 11.448621 ┆ 12.467764          │\n",
            "│ LGA    ┆ ORD  ┆ 8548          ┆ 10.740758 ┆ 13.827796          │\n",
            "│ JFK    ┆ SFO  ┆ 8138          ┆ 11.952691 ┆ 12.214303          │\n",
            "│ LGA    ┆ CLT  ┆ 5969          ┆ 8.965321  ┆ 12.347127          │\n",
            "│ EWR    ┆ ORD  ┆ 5851          ┆ 14.644163 ┆ 16.680909          │\n",
            "│ JFK    ┆ BOS  ┆ 5786          ┆ 11.694953 ┆ 14.033875          │\n",
            "│ LGA    ┆ MIA  ┆ 5725          ┆ 7.361747  ┆ 9.554585           │\n",
            "│ JFK    ┆ MCO  ┆ 5434          ┆ 10.601583 ┆ 12.789842          │\n",
            "│ EWR    ┆ BOS  ┆ 5251          ┆ 12.54561  ┆ 15.120929          │\n",
            "└────────┴──────┴───────────────┴───────────┴────────────────────┘\n"
          ]
        }
      ]
    },
    {
      "cell_type": "markdown",
      "metadata": {
        "id": "yexzuXhB0U8P"
      },
      "source": [
        "## Bonus: Compare with Polars\n",
        "\n",
        "### Choose one of the queries above and implement it using Polars\n",
        "\n",
        "This will help you understand the relationship between SQL and Polars operations."
      ]
    },
    {
      "cell_type": "code",
      "execution_count": 24,
      "metadata": {
        "colab": {
          "base_uri": "https://localhost:8080/"
        },
        "id": "ByqH0ZYb0U8P",
        "outputId": "fe93d51e-ac00-48d7-c064-b0cce7626d3d"
      },
      "outputs": [
        {
          "output_type": "stream",
          "name": "stdout",
          "text": [
            "SQL Result:\n",
            "shape: (3, 2)\n",
            "┌────────┬───────────┐\n",
            "│ origin ┆ avg_delay │\n",
            "│ ---    ┆ ---       │\n",
            "│ str    ┆ f64       │\n",
            "╞════════╪═══════════╡\n",
            "│ EWR    ┆ 15.107954 │\n",
            "│ JFK    ┆ 12.112159 │\n",
            "│ LGA    ┆ 10.346876 │\n",
            "└────────┴───────────┘\n",
            "\n",
            "Polars Result:\n",
            "shape: (3, 2)\n",
            "┌────────┬───────────┐\n",
            "│ origin ┆ avg_delay │\n",
            "│ ---    ┆ ---       │\n",
            "│ str    ┆ f64       │\n",
            "╞════════╪═══════════╡\n",
            "│ EWR    ┆ 15.107954 │\n",
            "│ JFK    ┆ 12.112159 │\n",
            "│ LGA    ┆ 10.346876 │\n",
            "└────────┴───────────┘\n",
            "\n",
            "Polars Result for Busiest Month:\n",
            "shape: (1, 2)\n",
            "┌───────┬──────────────┐\n",
            "│ month ┆ flight_count │\n",
            "│ ---   ┆ ---          │\n",
            "│ i64   ┆ u32          │\n",
            "╞═══════╪══════════════╡\n",
            "│ 7     ┆ 29425        │\n",
            "└───────┴──────────────┘\n"
          ]
        },
        {
          "output_type": "stream",
          "name": "stderr",
          "text": [
            "/tmp/ipython-input-2473644714.py:30: DeprecationWarning: `pl.count()` is deprecated. Please use `pl.len()` instead.\n",
            "  .agg(pl.count().alias('flight_count'))\n"
          ]
        }
      ],
      "source": [
        "# SQL version (for reference)\n",
        "sql_result = ctx.execute(\"\"\"\n",
        "    SELECT\n",
        "        origin,\n",
        "        AVG(dep_delay) as avg_delay\n",
        "    FROM flights\n",
        "    WHERE dep_delay IS NOT NULL\n",
        "    GROUP BY origin\n",
        "    ORDER BY avg_delay DESC\n",
        "\"\"\")\n",
        "\n",
        "# Polars version\n",
        "polars_result = (\n",
        "    flights\n",
        "    .filter(pl.col('dep_delay').is_not_null())\n",
        "    .group_by('origin')\n",
        "    .agg(pl.col('dep_delay').mean().alias('avg_delay'))\n",
        "    .sort('avg_delay', descending=True)\n",
        ")\n",
        "\n",
        "print(\"SQL Result:\")\n",
        "print(sql_result)\n",
        "print(\"\\nPolars Result:\")\n",
        "print(polars_result)\n",
        "\n",
        "#implement one of your own queries in Polars below:\n",
        "polars_busiest_month = (\n",
        "    flights\n",
        "    .group_by('month')\n",
        "    .agg(pl.count().alias('flight_count'))\n",
        "    .sort('flight_count', descending=True)\n",
        "    .limit(1)\n",
        ")\n",
        "\n",
        "print(\"\\nPolars Result for Busiest Month:\")\n",
        "print(polars_busiest_month)"
      ]
    }
  ],
  "metadata": {
    "kernelspec": {
      "display_name": "Python 3",
      "language": "python",
      "name": "python3"
    },
    "language_info": {
      "codemirror_mode": {
        "name": "ipython",
        "version": 3
      },
      "file_extension": ".py",
      "mimetype": "text/x-python",
      "name": "python",
      "nbconvert_exporter": "python",
      "pygments_lexer": "ipython3",
      "version": "3.8.0"
    },
    "colab": {
      "provenance": []
    }
  },
  "nbformat": 4,
  "nbformat_minor": 0
}